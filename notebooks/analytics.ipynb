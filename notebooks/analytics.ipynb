{
 "cells": [
  {
   "cell_type": "code",
   "execution_count": 1,
   "id": "bbd91d9f",
   "metadata": {},
   "outputs": [],
   "source": [
    "import os\n",
    "from itertools import zip_longest\n",
    "\n",
    "import numpy as np\n",
    "import pandas as pd\n",
    "import matplotlib.pyplot as plt"
   ]
  },
  {
   "cell_type": "code",
   "execution_count": 4,
   "id": "4e39ef0e",
   "metadata": {},
   "outputs": [],
   "source": [
    "UUID = 'dc5b519d-8687-441b-9b59-a9d307df5678'\n",
    "FOLDER_DIR = os.path.join('..', 'results', UUID)"
   ]
  },
  {
   "cell_type": "code",
   "execution_count": 5,
   "id": "c6f65cb9",
   "metadata": {},
   "outputs": [],
   "source": [
    "cells = pd.read_csv(os.path.join(FOLDER_DIR, 'sheet', 'cells.csv'))\n",
    "steps = pd.read_csv(os.path.join(FOLDER_DIR, 'sheet', 'steps.csv'))\n",
    "prevt = pd.read_csv(os.path.join(FOLDER_DIR, 'sheet', 'prevt.csv'))"
   ]
  },
  {
   "cell_type": "code",
   "execution_count": 20,
   "id": "67d30339",
   "metadata": {},
   "outputs": [
    {
     "data": {
      "text/html": [
       "<div>\n",
       "<style scoped>\n",
       "    .dataframe tbody tr th:only-of-type {\n",
       "        vertical-align: middle;\n",
       "    }\n",
       "\n",
       "    .dataframe tbody tr th {\n",
       "        vertical-align: top;\n",
       "    }\n",
       "\n",
       "    .dataframe thead th {\n",
       "        text-align: right;\n",
       "    }\n",
       "</style>\n",
       "<table border=\"1\" class=\"dataframe\">\n",
       "  <thead>\n",
       "    <tr style=\"text-align: right;\">\n",
       "      <th></th>\n",
       "      <th>isolation</th>\n",
       "      <th>mask</th>\n",
       "      <th>vaccine</th>\n",
       "    </tr>\n",
       "  </thead>\n",
       "  <tbody>\n",
       "    <tr>\n",
       "      <th>0</th>\n",
       "      <td>23</td>\n",
       "      <td>39</td>\n",
       "      <td>39</td>\n",
       "    </tr>\n",
       "  </tbody>\n",
       "</table>\n",
       "</div>"
      ],
      "text/plain": [
       "   isolation  mask  vaccine\n",
       "0         23    39       39"
      ]
     },
     "execution_count": 20,
     "metadata": {},
     "output_type": "execute_result"
    }
   ],
   "source": [
    "prevt"
   ]
  },
  {
   "cell_type": "code",
   "execution_count": 7,
   "id": "bab1b882",
   "metadata": {},
   "outputs": [
    {
     "name": "stderr",
     "output_type": "stream",
     "text": [
      "/tmp/ipykernel_398892/699909884.py:3: PerformanceWarning: DataFrame is highly fragmented.  This is usually the result of calling `frame.insert` many times, which has poor performance.  Consider joining all columns at once using pd.concat(axis=1) instead.  To get a de-fragmented frame, use `newframe = frame.copy()`\n",
      "  infection[column] = steps[column].apply(lambda x: x in ('EXPOSED', 'INFECTOUS'))\n"
     ]
    }
   ],
   "source": [
    "infection = pd.DataFrame()\n",
    "for column in steps.columns:\n",
    "    infection[column] = steps[column].apply(lambda x: x in ('EXPOSED', 'INFECTOUS'))"
   ]
  },
  {
   "cell_type": "code",
   "execution_count": 23,
   "id": "2f98858c",
   "metadata": {},
   "outputs": [
    {
     "data": {
      "text/plain": [
       "<matplotlib.lines.Line2D at 0x7f6a106a09a0>"
      ]
     },
     "execution_count": 23,
     "metadata": {},
     "output_type": "execute_result"
    },
    {
     "data": {
      "image/png": "[encoded data removed]",
      "text/plain": [
       "<Figure size 432x288 with 1 Axes>"
      ]
     },
     "metadata": {
      "needs_background": "light"
     },
     "output_type": "display_data"
    }
   ],
   "source": [
    "plt.plot(infection.sum(axis=1).values)\n",
    "plt.axvline(x=prevt['mask'].item(), color='red')\n",
    "plt.axvline(x=prevt['isolation'].item(), color='green')\n",
    "# plt.axvline(x=prevt['vaccine'].item(), color='blue')"
   ]
  },
  {
   "cell_type": "markdown",
   "id": "b2c132ab",
   "metadata": {},
   "source": [
    "## Pessoas contaminadas por dia"
   ]
  },
  {
   "cell_type": "code",
   "execution_count": 72,
   "id": "bf63ef34",
   "metadata": {},
   "outputs": [
    {
     "name": "stderr",
     "output_type": "stream",
     "text": [
      "/home/sena/Documents/programs/anaconda3/envs/TTIC/lib/python3.9/site-packages/pandas/core/indexing.py:1667: PerformanceWarning: DataFrame is highly fragmented.  This is usually the result of calling `frame.insert` many times, which has poor performance.  Consider joining all columns at once using pd.concat(axis=1) instead.  To get a de-fragmented frame, use `newframe = frame.copy()`\n",
      "  self.obj[key] = value\n"
     ]
    }
   ],
   "source": [
    "infection = pd.DataFrame()\n",
    "for coloun in steps.columns:\n",
    "    infection.loc[:, coloun] = [0] * len(steps.columns)\n",
    "    \n",
    "    if 'EXPOSED' not in steps.loc[:, coloun].unique():\n",
    "        continue\n",
    "\n",
    "    first_exposed_day= np.argmax((steps.loc[:, coloun] == 'EXPOSED'))\n",
    "    infection.loc[first_exposed_day, coloun] = 1"
   ]
  },
  {
   "cell_type": "code",
   "execution_count": 82,
   "id": "1ccc2608",
   "metadata": {},
   "outputs": [],
   "source": [
    "b = infection.sum(axis=1)[:350]"
   ]
  },
  {
   "cell_type": "code",
   "execution_count": 96,
   "id": "31d5694f",
   "metadata": {},
   "outputs": [
    {
     "data": {
      "text/plain": [
       "<matplotlib.lines.Line2D at 0x7ffb58cf98e0>"
      ]
     },
     "execution_count": 96,
     "metadata": {},
     "output_type": "execute_result"
    },
    {
     "data": {
      "image/png": "[encoded data removed]",
      "text/plain": [
       "<Figure size 1152x720 with 1 Axes>"
      ]
     },
     "metadata": {
      "needs_background": "light"
     },
     "output_type": "display_data"
    }
   ],
   "source": [
    "plt.figure(figsize=(16, 10))\n",
    "\n",
    "plt.bar(b.index, b.values)\n",
    "plt.axvline(x=prevt['mask'].item(), color='red')\n",
    "plt.axvline(x=prevt['isolation'].item(), color='green')\n",
    "plt.axvline(x=prevt['vaccine'].item(), color='blue')"
   ]
  },
  {
   "cell_type": "code",
   "execution_count": null,
   "id": "2802ba7a",
   "metadata": {},
   "outputs": [],
   "source": []
  },
  {
   "cell_type": "markdown",
   "id": "b940115a",
   "metadata": {},
   "source": [
    "## Pessoas mortas por dia"
   ]
  },
  {
   "cell_type": "code",
   "execution_count": 85,
   "id": "63ce72e4",
   "metadata": {},
   "outputs": [],
   "source": [
    "dead = pd.DataFrame()\n",
    "for coloun in steps.columns:\n",
    "    dead.loc[:, coloun] = [0] * len(steps.columns)\n",
    "    \n",
    "    if 'DEAD' not in steps.loc[:, coloun].unique():\n",
    "        continue\n",
    "\n",
    "    first_exposed_day= np.argmax((steps.loc[:, coloun] == 'DEAD'))\n",
    "    dead.loc[first_exposed_day, coloun] = 1"
   ]
  },
  {
   "cell_type": "code",
   "execution_count": 89,
   "id": "f9f19c6f",
   "metadata": {},
   "outputs": [],
   "source": [
    "b = dead.sum(axis=1)[:350]"
   ]
  },
  {
   "cell_type": "code",
   "execution_count": 90,
   "id": "da64a316",
   "metadata": {},
   "outputs": [
    {
     "data": {
      "text/plain": [
       "<matplotlib.lines.Line2D at 0x7ffb59c2d610>"
      ]
     },
     "execution_count": 90,
     "metadata": {},
     "output_type": "execute_result"
    },
    {
     "data": {
      "image/png": "[encoded data removed]",
      "text/plain": [
       "<Figure size 432x288 with 1 Axes>"
      ]
     },
     "metadata": {
      "needs_background": "light"
     },
     "output_type": "display_data"
    }
   ],
   "source": [
    "plt.bar(b.index, b.values)\n",
    "plt.axvline(x=prevt['mask'].item(), color='red')\n",
    "plt.axvline(x=prevt['isolation'].item(), color='green')\n",
    "plt.axvline(x=prevt['vaccine'].item(), color='blue')"
   ]
  }
 ],
 "metadata": {
  "kernelspec": {
   "display_name": "Python 3 (ipykernel)",
   "language": "python",
   "name": "python3"
  },
  "language_info": {
   "codemirror_mode": {
    "name": "ipython",
    "version": 3
   },
   "file_extension": ".py",
   "mimetype": "text/x-python",
   "name": "python",
   "nbconvert_exporter": "python",
   "pygments_lexer": "ipython3",
   "version": "3.9.6"
  }
 },
 "nbformat": 4,
 "nbformat_minor": 5
}
